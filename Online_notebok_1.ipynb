{
  "nbformat": 4,
  "nbformat_minor": 0,
  "metadata": {
    "colab": {
      "provenance": []
    },
    "kernelspec": {
      "name": "python3",
      "display_name": "Python 3"
    },
    "language_info": {
      "name": "python"
    }
  },
  "cells": [
    {
      "cell_type": "code",
      "execution_count": null,
      "metadata": {
        "id": "kMaMBBGI4r2P"
      },
      "outputs": [],
      "source": [
        "import numpy as np\n",
        "import matplotlib.pyplot as plt\n",
        "\n",
        "# SET UP THE NETWORK\n",
        "# 1 - NETWORK SIZE:\n",
        "Ne = 800\n",
        "Ni = 200"
      ]
    },
    {
      "cell_type": "code",
      "source": [
        "# 2 - GLOBAL PARAMETERS THAT SET OUR NEURON MODEL. DEFAULT IS SPIKING NEURON:\n",
        "re = np.random.rand(Ne)\n",
        "ri = np.random.rand(Ni)\n",
        "a = np.concatenate((0.02 * np.ones(Ne), 0.02 + 0.08 * ri))\n",
        "b = np.concatenate((0.2 * np.ones(Ne), 0.25 - 0.05 * ri))\n",
        "c = np.concatenate((-65 + 15 * re**2, -65 * np.ones(Ni)))\n",
        "d = np.concatenate((8 - 6 * re**2, 2 * np.ones(Ni)))"
      ],
      "metadata": {
        "id": "NY2uAtxr9QN9"
      },
      "execution_count": null,
      "outputs": []
    },
    {
      "cell_type": "code",
      "source": [
        "# 3 - SET UP THE CONNECTIVITY MATRIX: DIRECTED NETWORK\n",
        "frac_delete = 0.6  # Set this fraction of connections to zero.\n",
        "A = np.random.rand(Ne + Ni, Ne + Ni)\n",
        "A[A < frac_delete] = 0\n",
        "A[A > 0] = 1\n",
        "np.fill_diagonal(A, 0)\n",
        "plt.figure()\n",
        "plt.imshow(A)\n",
        "plt.show()"
      ],
      "metadata": {
        "id": "2-qm7cI89Rje"
      },
      "execution_count": null,
      "outputs": []
    },
    {
      "cell_type": "code",
      "source": [
        "# 4 - SET SYNAPTIC WEIGHTS (STRENGTHS) OF CONNECTIONS.\n",
        "MAX_EXC_WEIGHT = 1\n",
        "MAX_INH_WEIGHT = 0.5\n",
        "W = np.concatenate((MAX_EXC_WEIGHT * np.random.rand(Ne + Ni, Ne),\n",
        "                    -MAX_INH_WEIGHT * np.random.rand(Ne + Ni, Ni)))"
      ],
      "metadata": {
        "id": "9Xnuwn6w9WOH"
      },
      "execution_count": null,
      "outputs": []
    },
    {
      "cell_type": "code",
      "source": [
        "\n",
        "# 5 - The final connectivity matrix S is the element-wise multiplication of A and W.\n",
        "S = np.multiply(A, W)  # Note that S is directed and weighted!!"
      ],
      "metadata": {
        "id": "BYCy0oCv9YZV"
      },
      "execution_count": null,
      "outputs": []
    },
    {
      "cell_type": "code",
      "source": [
        "# 6 - DEFINE NOISE STRENGTH. Remember that noise (or random inputs) is the main drive of spontaneous activity.\n",
        "NOISE_MAX = 0.5\n",
        "\n",
        "# MAIN SIMULATION\n",
        "v = -65 * np.ones(Ne + Ni)  # Initial values of v\n",
        "u = b * v  # Initial values of u\n",
        "firings = []  # spike timings\n",
        "\n",
        "for t in range(1000):  # simulation of 1000 ms\n",
        "    I = np.concatenate((NOISE_MAX * np.random.randn(Ne),\n",
        "                        2 * np.random.randn(Ni)))  # NOISE or thalamic input\n",
        "    fired = np.where(v >= 30)[0]  # indices of spikes\n",
        "    firings.extend(list(zip([t] * len(fired), fired)))\n",
        "    v[fired] = c[fired]\n",
        "    u[fired] = u[fired] + d[fired]\n",
        "    I = I + np.sum(S[:, fired], axis=1)\n",
        "    v = v + 0.5 * (0.04 * v ** 2 + 5 * v + 140 - u + I)  # step 0.5 ms\n",
        "    v = v + 0.5 * (0.04 * v ** 2 + 5 * v + 140 - u + I)  # for numerical stability\n",
        "    u = u + a * (b * v - u)\n",
        "\n",
        "# PLOT RESULTS\n",
        "# Raster plot. Time on X, neuron on Y.\n",
        "firings = np.array(firings)\n",
        "plt.figure()\n",
        "plt.scatter(firings[:, 0], firings[:, 1])\n",
        "plt.xlabel('time (ms)')\n",
        "plt.ylabel('neuron')\n",
        "plt.show()"
      ],
      "metadata": {
        "id": "Ocme4N_I9ax1"
      },
      "execution_count": null,
      "outputs": []
    }
  ]
}